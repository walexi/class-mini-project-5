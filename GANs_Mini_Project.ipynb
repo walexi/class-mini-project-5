{
  "metadata": {
    "kernelspec": {
      "name": "python3",
      "display_name": "Python 3"
    },
    "language_info": {
      "name": "python",
      "version": "3.10.17",
      "mimetype": "text/x-python",
      "codemirror_mode": {
        "name": "ipython",
        "version": 3
      },
      "pygments_lexer": "ipython3",
      "nbconvert_exporter": "python",
      "file_extension": ".py"
    },
    "kaggle": {
      "accelerator": "tpu1vmV38",
      "dataSources": [
        {
          "sourceId": 21755,
          "databundleVersionId": 1475600,
          "isSourceIdPinned": false,
          "sourceType": "competition"
        }
      ],
      "isInternetEnabled": true,
      "language": "python",
      "sourceType": "notebook",
      "isGpuEnabled": false
    },
    "colab": {
      "provenance": [],
      "name": "GANs Mini-Project",
      "machine_shape": "hm",
      "gpuType": "V5E1",
      "include_colab_link": true
    },
    "accelerator": "TPU",
    "widgets": {
      "application/vnd.jupyter.widget-state+json": {
        "228886410f5041128ffbc6c95b506f67": {
          "model_module": "@jupyter-widgets/controls",
          "model_name": "VBoxModel",
          "model_module_version": "1.5.0",
          "state": {
            "_dom_classes": [],
            "_model_module": "@jupyter-widgets/controls",
            "_model_module_version": "1.5.0",
            "_model_name": "VBoxModel",
            "_view_count": null,
            "_view_module": "@jupyter-widgets/controls",
            "_view_module_version": "1.5.0",
            "_view_name": "VBoxView",
            "box_style": "",
            "children": [
              "IPY_MODEL_c2775c742eed48958156b9916ac649af"
            ],
            "layout": "IPY_MODEL_f749c99e16ef48a28dfdca91b7bb2366"
          }
        },
        "01729fa40506459dbf335a2114f6d2cf": {
          "model_module": "@jupyter-widgets/controls",
          "model_name": "HTMLModel",
          "model_module_version": "1.5.0",
          "state": {
            "_dom_classes": [],
            "_model_module": "@jupyter-widgets/controls",
            "_model_module_version": "1.5.0",
            "_model_name": "HTMLModel",
            "_view_count": null,
            "_view_module": "@jupyter-widgets/controls",
            "_view_module_version": "1.5.0",
            "_view_name": "HTMLView",
            "description": "",
            "description_tooltip": null,
            "layout": "IPY_MODEL_c86e639140f849f885edccf9d68252c4",
            "placeholder": "​",
            "style": "IPY_MODEL_89a533b42fde4e8f8c02c3040330c569",
            "value": "<center> <img\nsrc=https://www.kaggle.com/static/images/site-logo.png\nalt='Kaggle'> <br> Create an API token from <a\nhref=\"https://www.kaggle.com/settings/account\" target=\"_blank\">your Kaggle\nsettings page</a> and paste it below along with your Kaggle username. <br> </center>"
          }
        },
        "c4126f5dd6624a36aa0490562e1b1451": {
          "model_module": "@jupyter-widgets/controls",
          "model_name": "TextModel",
          "model_module_version": "1.5.0",
          "state": {
            "_dom_classes": [],
            "_model_module": "@jupyter-widgets/controls",
            "_model_module_version": "1.5.0",
            "_model_name": "TextModel",
            "_view_count": null,
            "_view_module": "@jupyter-widgets/controls",
            "_view_module_version": "1.5.0",
            "_view_name": "TextView",
            "continuous_update": true,
            "description": "Username:",
            "description_tooltip": null,
            "disabled": false,
            "layout": "IPY_MODEL_fbb663a8b27e42dc8f486d8f271dcc0c",
            "placeholder": "​",
            "style": "IPY_MODEL_b259bf0dbb6c47b58ddce6ca73662251",
            "value": "walexi"
          }
        },
        "83d8c96ed6834d4e820ad64d4f083928": {
          "model_module": "@jupyter-widgets/controls",
          "model_name": "PasswordModel",
          "model_module_version": "1.5.0",
          "state": {
            "_dom_classes": [],
            "_model_module": "@jupyter-widgets/controls",
            "_model_module_version": "1.5.0",
            "_model_name": "PasswordModel",
            "_view_count": null,
            "_view_module": "@jupyter-widgets/controls",
            "_view_module_version": "1.5.0",
            "_view_name": "PasswordView",
            "continuous_update": true,
            "description": "Token:",
            "description_tooltip": null,
            "disabled": false,
            "layout": "IPY_MODEL_6cc5fc9a3c1542abb9ffa54c9b03322a",
            "placeholder": "​",
            "style": "IPY_MODEL_a7ddd8109eb34cc2a047eaa4e4e41a30",
            "value": ""
          }
        },
        "c7984b64757f4f87a58dedad30995c05": {
          "model_module": "@jupyter-widgets/controls",
          "model_name": "ButtonModel",
          "model_module_version": "1.5.0",
          "state": {
            "_dom_classes": [],
            "_model_module": "@jupyter-widgets/controls",
            "_model_module_version": "1.5.0",
            "_model_name": "ButtonModel",
            "_view_count": null,
            "_view_module": "@jupyter-widgets/controls",
            "_view_module_version": "1.5.0",
            "_view_name": "ButtonView",
            "button_style": "",
            "description": "Login",
            "disabled": false,
            "icon": "",
            "layout": "IPY_MODEL_999b9ce3fcc74d4d983b249b16d05271",
            "style": "IPY_MODEL_9f3f4508339643ad9d7dd2aa89cd2542",
            "tooltip": ""
          }
        },
        "290d29966f284b5cb45869da75884a9e": {
          "model_module": "@jupyter-widgets/controls",
          "model_name": "HTMLModel",
          "model_module_version": "1.5.0",
          "state": {
            "_dom_classes": [],
            "_model_module": "@jupyter-widgets/controls",
            "_model_module_version": "1.5.0",
            "_model_name": "HTMLModel",
            "_view_count": null,
            "_view_module": "@jupyter-widgets/controls",
            "_view_module_version": "1.5.0",
            "_view_name": "HTMLView",
            "description": "",
            "description_tooltip": null,
            "layout": "IPY_MODEL_afbea4fda37945bfa9e002940b547f0b",
            "placeholder": "​",
            "style": "IPY_MODEL_6d92909ceb66443d8466f2733ebeb378",
            "value": "\n<b>Thank You</b></center>"
          }
        },
        "f749c99e16ef48a28dfdca91b7bb2366": {
          "model_module": "@jupyter-widgets/base",
          "model_name": "LayoutModel",
          "model_module_version": "1.2.0",
          "state": {
            "_model_module": "@jupyter-widgets/base",
            "_model_module_version": "1.2.0",
            "_model_name": "LayoutModel",
            "_view_count": null,
            "_view_module": "@jupyter-widgets/base",
            "_view_module_version": "1.2.0",
            "_view_name": "LayoutView",
            "align_content": null,
            "align_items": "center",
            "align_self": null,
            "border": null,
            "bottom": null,
            "display": "flex",
            "flex": null,
            "flex_flow": "column",
            "grid_area": null,
            "grid_auto_columns": null,
            "grid_auto_flow": null,
            "grid_auto_rows": null,
            "grid_column": null,
            "grid_gap": null,
            "grid_row": null,
            "grid_template_areas": null,
            "grid_template_columns": null,
            "grid_template_rows": null,
            "height": null,
            "justify_content": null,
            "justify_items": null,
            "left": null,
            "margin": null,
            "max_height": null,
            "max_width": null,
            "min_height": null,
            "min_width": null,
            "object_fit": null,
            "object_position": null,
            "order": null,
            "overflow": null,
            "overflow_x": null,
            "overflow_y": null,
            "padding": null,
            "right": null,
            "top": null,
            "visibility": null,
            "width": "50%"
          }
        },
        "c86e639140f849f885edccf9d68252c4": {
          "model_module": "@jupyter-widgets/base",
          "model_name": "LayoutModel",
          "model_module_version": "1.2.0",
          "state": {
            "_model_module": "@jupyter-widgets/base",
            "_model_module_version": "1.2.0",
            "_model_name": "LayoutModel",
            "_view_count": null,
            "_view_module": "@jupyter-widgets/base",
            "_view_module_version": "1.2.0",
            "_view_name": "LayoutView",
            "align_content": null,
            "align_items": null,
            "align_self": null,
            "border": null,
            "bottom": null,
            "display": null,
            "flex": null,
            "flex_flow": null,
            "grid_area": null,
            "grid_auto_columns": null,
            "grid_auto_flow": null,
            "grid_auto_rows": null,
            "grid_column": null,
            "grid_gap": null,
            "grid_row": null,
            "grid_template_areas": null,
            "grid_template_columns": null,
            "grid_template_rows": null,
            "height": null,
            "justify_content": null,
            "justify_items": null,
            "left": null,
            "margin": null,
            "max_height": null,
            "max_width": null,
            "min_height": null,
            "min_width": null,
            "object_fit": null,
            "object_position": null,
            "order": null,
            "overflow": null,
            "overflow_x": null,
            "overflow_y": null,
            "padding": null,
            "right": null,
            "top": null,
            "visibility": null,
            "width": null
          }
        },
        "89a533b42fde4e8f8c02c3040330c569": {
          "model_module": "@jupyter-widgets/controls",
          "model_name": "DescriptionStyleModel",
          "model_module_version": "1.5.0",
          "state": {
            "_model_module": "@jupyter-widgets/controls",
            "_model_module_version": "1.5.0",
            "_model_name": "DescriptionStyleModel",
            "_view_count": null,
            "_view_module": "@jupyter-widgets/base",
            "_view_module_version": "1.2.0",
            "_view_name": "StyleView",
            "description_width": ""
          }
        },
        "fbb663a8b27e42dc8f486d8f271dcc0c": {
          "model_module": "@jupyter-widgets/base",
          "model_name": "LayoutModel",
          "model_module_version": "1.2.0",
          "state": {
            "_model_module": "@jupyter-widgets/base",
            "_model_module_version": "1.2.0",
            "_model_name": "LayoutModel",
            "_view_count": null,
            "_view_module": "@jupyter-widgets/base",
            "_view_module_version": "1.2.0",
            "_view_name": "LayoutView",
            "align_content": null,
            "align_items": null,
            "align_self": null,
            "border": null,
            "bottom": null,
            "display": null,
            "flex": null,
            "flex_flow": null,
            "grid_area": null,
            "grid_auto_columns": null,
            "grid_auto_flow": null,
            "grid_auto_rows": null,
            "grid_column": null,
            "grid_gap": null,
            "grid_row": null,
            "grid_template_areas": null,
            "grid_template_columns": null,
            "grid_template_rows": null,
            "height": null,
            "justify_content": null,
            "justify_items": null,
            "left": null,
            "margin": null,
            "max_height": null,
            "max_width": null,
            "min_height": null,
            "min_width": null,
            "object_fit": null,
            "object_position": null,
            "order": null,
            "overflow": null,
            "overflow_x": null,
            "overflow_y": null,
            "padding": null,
            "right": null,
            "top": null,
            "visibility": null,
            "width": null
          }
        },
        "b259bf0dbb6c47b58ddce6ca73662251": {
          "model_module": "@jupyter-widgets/controls",
          "model_name": "DescriptionStyleModel",
          "model_module_version": "1.5.0",
          "state": {
            "_model_module": "@jupyter-widgets/controls",
            "_model_module_version": "1.5.0",
            "_model_name": "DescriptionStyleModel",
            "_view_count": null,
            "_view_module": "@jupyter-widgets/base",
            "_view_module_version": "1.2.0",
            "_view_name": "StyleView",
            "description_width": ""
          }
        },
        "6cc5fc9a3c1542abb9ffa54c9b03322a": {
          "model_module": "@jupyter-widgets/base",
          "model_name": "LayoutModel",
          "model_module_version": "1.2.0",
          "state": {
            "_model_module": "@jupyter-widgets/base",
            "_model_module_version": "1.2.0",
            "_model_name": "LayoutModel",
            "_view_count": null,
            "_view_module": "@jupyter-widgets/base",
            "_view_module_version": "1.2.0",
            "_view_name": "LayoutView",
            "align_content": null,
            "align_items": null,
            "align_self": null,
            "border": null,
            "bottom": null,
            "display": null,
            "flex": null,
            "flex_flow": null,
            "grid_area": null,
            "grid_auto_columns": null,
            "grid_auto_flow": null,
            "grid_auto_rows": null,
            "grid_column": null,
            "grid_gap": null,
            "grid_row": null,
            "grid_template_areas": null,
            "grid_template_columns": null,
            "grid_template_rows": null,
            "height": null,
            "justify_content": null,
            "justify_items": null,
            "left": null,
            "margin": null,
            "max_height": null,
            "max_width": null,
            "min_height": null,
            "min_width": null,
            "object_fit": null,
            "object_position": null,
            "order": null,
            "overflow": null,
            "overflow_x": null,
            "overflow_y": null,
            "padding": null,
            "right": null,
            "top": null,
            "visibility": null,
            "width": null
          }
        },
        "a7ddd8109eb34cc2a047eaa4e4e41a30": {
          "model_module": "@jupyter-widgets/controls",
          "model_name": "DescriptionStyleModel",
          "model_module_version": "1.5.0",
          "state": {
            "_model_module": "@jupyter-widgets/controls",
            "_model_module_version": "1.5.0",
            "_model_name": "DescriptionStyleModel",
            "_view_count": null,
            "_view_module": "@jupyter-widgets/base",
            "_view_module_version": "1.2.0",
            "_view_name": "StyleView",
            "description_width": ""
          }
        },
        "999b9ce3fcc74d4d983b249b16d05271": {
          "model_module": "@jupyter-widgets/base",
          "model_name": "LayoutModel",
          "model_module_version": "1.2.0",
          "state": {
            "_model_module": "@jupyter-widgets/base",
            "_model_module_version": "1.2.0",
            "_model_name": "LayoutModel",
            "_view_count": null,
            "_view_module": "@jupyter-widgets/base",
            "_view_module_version": "1.2.0",
            "_view_name": "LayoutView",
            "align_content": null,
            "align_items": null,
            "align_self": null,
            "border": null,
            "bottom": null,
            "display": null,
            "flex": null,
            "flex_flow": null,
            "grid_area": null,
            "grid_auto_columns": null,
            "grid_auto_flow": null,
            "grid_auto_rows": null,
            "grid_column": null,
            "grid_gap": null,
            "grid_row": null,
            "grid_template_areas": null,
            "grid_template_columns": null,
            "grid_template_rows": null,
            "height": null,
            "justify_content": null,
            "justify_items": null,
            "left": null,
            "margin": null,
            "max_height": null,
            "max_width": null,
            "min_height": null,
            "min_width": null,
            "object_fit": null,
            "object_position": null,
            "order": null,
            "overflow": null,
            "overflow_x": null,
            "overflow_y": null,
            "padding": null,
            "right": null,
            "top": null,
            "visibility": null,
            "width": null
          }
        },
        "9f3f4508339643ad9d7dd2aa89cd2542": {
          "model_module": "@jupyter-widgets/controls",
          "model_name": "ButtonStyleModel",
          "model_module_version": "1.5.0",
          "state": {
            "_model_module": "@jupyter-widgets/controls",
            "_model_module_version": "1.5.0",
            "_model_name": "ButtonStyleModel",
            "_view_count": null,
            "_view_module": "@jupyter-widgets/base",
            "_view_module_version": "1.2.0",
            "_view_name": "StyleView",
            "button_color": null,
            "font_weight": ""
          }
        },
        "afbea4fda37945bfa9e002940b547f0b": {
          "model_module": "@jupyter-widgets/base",
          "model_name": "LayoutModel",
          "model_module_version": "1.2.0",
          "state": {
            "_model_module": "@jupyter-widgets/base",
            "_model_module_version": "1.2.0",
            "_model_name": "LayoutModel",
            "_view_count": null,
            "_view_module": "@jupyter-widgets/base",
            "_view_module_version": "1.2.0",
            "_view_name": "LayoutView",
            "align_content": null,
            "align_items": null,
            "align_self": null,
            "border": null,
            "bottom": null,
            "display": null,
            "flex": null,
            "flex_flow": null,
            "grid_area": null,
            "grid_auto_columns": null,
            "grid_auto_flow": null,
            "grid_auto_rows": null,
            "grid_column": null,
            "grid_gap": null,
            "grid_row": null,
            "grid_template_areas": null,
            "grid_template_columns": null,
            "grid_template_rows": null,
            "height": null,
            "justify_content": null,
            "justify_items": null,
            "left": null,
            "margin": null,
            "max_height": null,
            "max_width": null,
            "min_height": null,
            "min_width": null,
            "object_fit": null,
            "object_position": null,
            "order": null,
            "overflow": null,
            "overflow_x": null,
            "overflow_y": null,
            "padding": null,
            "right": null,
            "top": null,
            "visibility": null,
            "width": null
          }
        },
        "6d92909ceb66443d8466f2733ebeb378": {
          "model_module": "@jupyter-widgets/controls",
          "model_name": "DescriptionStyleModel",
          "model_module_version": "1.5.0",
          "state": {
            "_model_module": "@jupyter-widgets/controls",
            "_model_module_version": "1.5.0",
            "_model_name": "DescriptionStyleModel",
            "_view_count": null,
            "_view_module": "@jupyter-widgets/base",
            "_view_module_version": "1.2.0",
            "_view_name": "StyleView",
            "description_width": ""
          }
        },
        "c94e875fed9e4a32b2e2f3ca5712355e": {
          "model_module": "@jupyter-widgets/controls",
          "model_name": "LabelModel",
          "model_module_version": "1.5.0",
          "state": {
            "_dom_classes": [],
            "_model_module": "@jupyter-widgets/controls",
            "_model_module_version": "1.5.0",
            "_model_name": "LabelModel",
            "_view_count": null,
            "_view_module": "@jupyter-widgets/controls",
            "_view_module_version": "1.5.0",
            "_view_name": "LabelView",
            "description": "",
            "description_tooltip": null,
            "layout": "IPY_MODEL_ae32e9a9e46a4defa15f78f8ed0d65f8",
            "placeholder": "​",
            "style": "IPY_MODEL_d3bb88164b2743a5b7c21deb5bf7b3a1",
            "value": "Connecting..."
          }
        },
        "ae32e9a9e46a4defa15f78f8ed0d65f8": {
          "model_module": "@jupyter-widgets/base",
          "model_name": "LayoutModel",
          "model_module_version": "1.2.0",
          "state": {
            "_model_module": "@jupyter-widgets/base",
            "_model_module_version": "1.2.0",
            "_model_name": "LayoutModel",
            "_view_count": null,
            "_view_module": "@jupyter-widgets/base",
            "_view_module_version": "1.2.0",
            "_view_name": "LayoutView",
            "align_content": null,
            "align_items": null,
            "align_self": null,
            "border": null,
            "bottom": null,
            "display": null,
            "flex": null,
            "flex_flow": null,
            "grid_area": null,
            "grid_auto_columns": null,
            "grid_auto_flow": null,
            "grid_auto_rows": null,
            "grid_column": null,
            "grid_gap": null,
            "grid_row": null,
            "grid_template_areas": null,
            "grid_template_columns": null,
            "grid_template_rows": null,
            "height": null,
            "justify_content": null,
            "justify_items": null,
            "left": null,
            "margin": null,
            "max_height": null,
            "max_width": null,
            "min_height": null,
            "min_width": null,
            "object_fit": null,
            "object_position": null,
            "order": null,
            "overflow": null,
            "overflow_x": null,
            "overflow_y": null,
            "padding": null,
            "right": null,
            "top": null,
            "visibility": null,
            "width": null
          }
        },
        "d3bb88164b2743a5b7c21deb5bf7b3a1": {
          "model_module": "@jupyter-widgets/controls",
          "model_name": "DescriptionStyleModel",
          "model_module_version": "1.5.0",
          "state": {
            "_model_module": "@jupyter-widgets/controls",
            "_model_module_version": "1.5.0",
            "_model_name": "DescriptionStyleModel",
            "_view_count": null,
            "_view_module": "@jupyter-widgets/base",
            "_view_module_version": "1.2.0",
            "_view_name": "StyleView",
            "description_width": ""
          }
        },
        "c2775c742eed48958156b9916ac649af": {
          "model_module": "@jupyter-widgets/controls",
          "model_name": "LabelModel",
          "model_module_version": "1.5.0",
          "state": {
            "_dom_classes": [],
            "_model_module": "@jupyter-widgets/controls",
            "_model_module_version": "1.5.0",
            "_model_name": "LabelModel",
            "_view_count": null,
            "_view_module": "@jupyter-widgets/controls",
            "_view_module_version": "1.5.0",
            "_view_name": "LabelView",
            "description": "",
            "description_tooltip": null,
            "layout": "IPY_MODEL_8c23022c10a846d6940aeadb1f66c0b0",
            "placeholder": "​",
            "style": "IPY_MODEL_3ce7e9cd038d4f5fa1679c02ee960470",
            "value": "Kaggle credentials successfully validated."
          }
        },
        "8c23022c10a846d6940aeadb1f66c0b0": {
          "model_module": "@jupyter-widgets/base",
          "model_name": "LayoutModel",
          "model_module_version": "1.2.0",
          "state": {
            "_model_module": "@jupyter-widgets/base",
            "_model_module_version": "1.2.0",
            "_model_name": "LayoutModel",
            "_view_count": null,
            "_view_module": "@jupyter-widgets/base",
            "_view_module_version": "1.2.0",
            "_view_name": "LayoutView",
            "align_content": null,
            "align_items": null,
            "align_self": null,
            "border": null,
            "bottom": null,
            "display": null,
            "flex": null,
            "flex_flow": null,
            "grid_area": null,
            "grid_auto_columns": null,
            "grid_auto_flow": null,
            "grid_auto_rows": null,
            "grid_column": null,
            "grid_gap": null,
            "grid_row": null,
            "grid_template_areas": null,
            "grid_template_columns": null,
            "grid_template_rows": null,
            "height": null,
            "justify_content": null,
            "justify_items": null,
            "left": null,
            "margin": null,
            "max_height": null,
            "max_width": null,
            "min_height": null,
            "min_width": null,
            "object_fit": null,
            "object_position": null,
            "order": null,
            "overflow": null,
            "overflow_x": null,
            "overflow_y": null,
            "padding": null,
            "right": null,
            "top": null,
            "visibility": null,
            "width": null
          }
        },
        "3ce7e9cd038d4f5fa1679c02ee960470": {
          "model_module": "@jupyter-widgets/controls",
          "model_name": "DescriptionStyleModel",
          "model_module_version": "1.5.0",
          "state": {
            "_model_module": "@jupyter-widgets/controls",
            "_model_module_version": "1.5.0",
            "_model_name": "DescriptionStyleModel",
            "_view_count": null,
            "_view_module": "@jupyter-widgets/base",
            "_view_module_version": "1.2.0",
            "_view_name": "StyleView",
            "description_width": ""
          }
        }
      }
    }
  },
  "nbformat_minor": 0,
  "nbformat": 4,
  "cells": [
    {
      "cell_type": "markdown",
      "metadata": {
        "id": "view-in-github",
        "colab_type": "text"
      },
      "source": [
        "<a href=\"https://colab.research.google.com/github/walexi/class-mini-project-5/blob/main/GANs_Mini_Project.ipynb\" target=\"_parent\"><img src=\"https://colab.research.google.com/assets/colab-badge.svg\" alt=\"Open In Colab\"/></a>"
      ]
    },
    {
      "source": [
        "# IMPORTANT: SOME KAGGLE DATA SOURCES ARE PRIVATE\n",
        "# RUN THIS CELL IN ORDER TO IMPORT YOUR KAGGLE DATA SOURCES.\n",
        "import kagglehub\n",
        "kagglehub.login()\n"
      ],
      "metadata": {
        "colab": {
          "base_uri": "https://localhost:8080/",
          "height": 84,
          "referenced_widgets": [
            "228886410f5041128ffbc6c95b506f67",
            "01729fa40506459dbf335a2114f6d2cf",
            "c4126f5dd6624a36aa0490562e1b1451",
            "83d8c96ed6834d4e820ad64d4f083928",
            "c7984b64757f4f87a58dedad30995c05",
            "290d29966f284b5cb45869da75884a9e",
            "f749c99e16ef48a28dfdca91b7bb2366",
            "c86e639140f849f885edccf9d68252c4",
            "89a533b42fde4e8f8c02c3040330c569",
            "fbb663a8b27e42dc8f486d8f271dcc0c",
            "b259bf0dbb6c47b58ddce6ca73662251",
            "6cc5fc9a3c1542abb9ffa54c9b03322a",
            "a7ddd8109eb34cc2a047eaa4e4e41a30",
            "999b9ce3fcc74d4d983b249b16d05271",
            "9f3f4508339643ad9d7dd2aa89cd2542",
            "afbea4fda37945bfa9e002940b547f0b",
            "6d92909ceb66443d8466f2733ebeb378",
            "c94e875fed9e4a32b2e2f3ca5712355e",
            "ae32e9a9e46a4defa15f78f8ed0d65f8",
            "d3bb88164b2743a5b7c21deb5bf7b3a1",
            "c2775c742eed48958156b9916ac649af",
            "8c23022c10a846d6940aeadb1f66c0b0",
            "3ce7e9cd038d4f5fa1679c02ee960470"
          ]
        },
        "id": "BCNmaU6Ap792",
        "outputId": "95ecdbfe-fcbb-48ea-e45e-2209311b0793"
      },
      "cell_type": "code",
      "outputs": [
        {
          "output_type": "display_data",
          "data": {
            "text/plain": [
              "VBox(children=(HTML(value='<center> <img\\nsrc=https://www.kaggle.com/static/images/site-logo.png\\nalt=\\'Kaggle…"
            ],
            "application/vnd.jupyter.widget-view+json": {
              "version_major": 2,
              "version_minor": 0,
              "model_id": "228886410f5041128ffbc6c95b506f67"
            }
          },
          "metadata": {}
        },
        {
          "output_type": "stream",
          "name": "stdout",
          "text": [
            "Kaggle credentials set.\n",
            "Kaggle credentials successfully validated.\n"
          ]
        }
      ],
      "execution_count": 1
    },
    {
      "source": [
        "# IMPORTANT: RUN THIS CELL IN ORDER TO IMPORT YOUR KAGGLE DATA SOURCES,\n",
        "# THEN FEEL FREE TO DELETE THIS CELL.\n",
        "# NOTE: THIS NOTEBOOK ENVIRONMENT DIFFERS FROM KAGGLE'S PYTHON\n",
        "# ENVIRONMENT SO THERE MAY BE MISSING LIBRARIES USED BY YOUR\n",
        "# NOTEBOOK.\n",
        "\n",
        "gan_getting_started_path = kagglehub.competition_download('gan-getting-started')\n",
        "\n",
        "print('Data source import complete.')\n"
      ],
      "metadata": {
        "colab": {
          "base_uri": "https://localhost:8080/"
        },
        "id": "F85muZsap796",
        "outputId": "216f62b2-9013-4084-b16b-1e460e6d7b60"
      },
      "cell_type": "code",
      "outputs": [
        {
          "output_type": "stream",
          "name": "stdout",
          "text": [
            "Data source import complete.\n"
          ]
        }
      ],
      "execution_count": 2
    },
    {
      "cell_type": "markdown",
      "source": [
        "## Imports"
      ],
      "metadata": {
        "id": "4sUPwqPca-XF"
      }
    },
    {
      "cell_type": "code",
      "source": [
        "!pip install optuna-dashboard plotly nbformat optuna jdc munch omegaconf wandb[media]"
      ],
      "metadata": {
        "id": "jszXvwoFc1Us",
        "colab": {
          "base_uri": "https://localhost:8080/"
        },
        "outputId": "fc962142-56fb-4e64-f560-3baeb223954f",
        "trusted": true,
        "execution": {
          "iopub.status.busy": "2025-06-26T05:03:41.244202Z",
          "iopub.execute_input": "2025-06-26T05:03:41.244437Z",
          "iopub.status.idle": "2025-06-26T05:03:48.417174Z",
          "shell.execute_reply.started": "2025-06-26T05:03:41.244419Z",
          "shell.execute_reply": "2025-06-26T05:03:48.416501Z"
        }
      },
      "outputs": [
        {
          "output_type": "stream",
          "name": "stdout",
          "text": [
            "Requirement already satisfied: optuna-dashboard in /usr/local/lib/python3.11/dist-packages (0.18.0)\n",
            "Requirement already satisfied: plotly in /usr/local/lib/python3.11/dist-packages (5.24.1)\n",
            "Requirement already satisfied: nbformat in /usr/local/lib/python3.11/dist-packages (5.10.4)\n",
            "Requirement already satisfied: optuna in /usr/local/lib/python3.11/dist-packages (4.4.0)\n",
            "Requirement already satisfied: jdc in /usr/local/lib/python3.11/dist-packages (0.0.9)\n",
            "Requirement already satisfied: munch in /usr/local/lib/python3.11/dist-packages (4.0.0)\n",
            "Requirement already satisfied: omegaconf in /usr/local/lib/python3.11/dist-packages (2.3.0)\n",
            "Requirement already satisfied: wandb[media] in /usr/local/lib/python3.11/dist-packages (0.20.1)\n",
            "Requirement already satisfied: bottle>=0.13.0 in /usr/local/lib/python3.11/dist-packages (from optuna-dashboard) (0.13.4)\n",
            "Requirement already satisfied: packaging in /usr/local/lib/python3.11/dist-packages (from optuna-dashboard) (25.0)\n",
            "Requirement already satisfied: scikit-learn in /usr/local/lib/python3.11/dist-packages (from optuna-dashboard) (1.6.1)\n",
            "Requirement already satisfied: tenacity>=6.2.0 in /usr/local/lib/python3.11/dist-packages (from plotly) (8.5.0)\n",
            "Requirement already satisfied: fastjsonschema>=2.15 in /usr/local/lib/python3.11/dist-packages (from nbformat) (2.21.1)\n",
            "Requirement already satisfied: jsonschema>=2.6 in /usr/local/lib/python3.11/dist-packages (from nbformat) (4.24.0)\n",
            "Requirement already satisfied: jupyter-core!=5.0.*,>=4.12 in /usr/local/lib/python3.11/dist-packages (from nbformat) (5.8.1)\n",
            "Requirement already satisfied: traitlets>=5.1 in /usr/local/lib/python3.11/dist-packages (from nbformat) (5.7.1)\n",
            "Requirement already satisfied: alembic>=1.5.0 in /usr/local/lib/python3.11/dist-packages (from optuna) (1.16.2)\n",
            "Requirement already satisfied: colorlog in /usr/local/lib/python3.11/dist-packages (from optuna) (6.9.0)\n",
            "Requirement already satisfied: numpy in /usr/local/lib/python3.11/dist-packages (from optuna) (2.0.2)\n",
            "Requirement already satisfied: sqlalchemy>=1.4.2 in /usr/local/lib/python3.11/dist-packages (from optuna) (2.0.41)\n",
            "Requirement already satisfied: tqdm in /usr/local/lib/python3.11/dist-packages (from optuna) (4.67.1)\n",
            "Requirement already satisfied: PyYAML in /usr/local/lib/python3.11/dist-packages (from optuna) (6.0.2)\n",
            "Requirement already satisfied: antlr4-python3-runtime==4.9.* in /usr/local/lib/python3.11/dist-packages (from omegaconf) (4.9.3)\n",
            "Requirement already satisfied: click!=8.0.0,>=7.1 in /usr/local/lib/python3.11/dist-packages (from wandb[media]) (8.2.1)\n",
            "Requirement already satisfied: gitpython!=3.1.29,>=1.0.0 in /usr/local/lib/python3.11/dist-packages (from wandb[media]) (3.1.44)\n",
            "Requirement already satisfied: platformdirs in /usr/local/lib/python3.11/dist-packages (from wandb[media]) (4.3.8)\n",
            "Requirement already satisfied: protobuf!=4.21.0,!=5.28.0,<7,>=3.19.0 in /usr/local/lib/python3.11/dist-packages (from wandb[media]) (5.29.5)\n",
            "Requirement already satisfied: psutil>=5.0.0 in /usr/local/lib/python3.11/dist-packages (from wandb[media]) (5.9.5)\n",
            "Requirement already satisfied: pydantic<3 in /usr/local/lib/python3.11/dist-packages (from wandb[media]) (2.11.7)\n",
            "Requirement already satisfied: requests<3,>=2.0.0 in /usr/local/lib/python3.11/dist-packages (from wandb[media]) (2.32.3)\n",
            "Requirement already satisfied: sentry-sdk>=2.0.0 in /usr/local/lib/python3.11/dist-packages (from wandb[media]) (2.31.0)\n",
            "Requirement already satisfied: setproctitle in /usr/local/lib/python3.11/dist-packages (from wandb[media]) (1.3.6)\n",
            "Requirement already satisfied: typing-extensions<5,>=4.8 in /usr/local/lib/python3.11/dist-packages (from wandb[media]) (4.14.0)\n",
            "Requirement already satisfied: bokeh in /usr/local/lib/python3.11/dist-packages (from wandb[media]) (3.7.3)\n",
            "Requirement already satisfied: imageio>=2.28.1 in /usr/local/lib/python3.11/dist-packages (from wandb[media]) (2.37.0)\n",
            "Requirement already satisfied: moviepy>=1.0.0 in /usr/local/lib/python3.11/dist-packages (from wandb[media]) (2.2.1)\n",
            "Requirement already satisfied: pillow in /usr/local/lib/python3.11/dist-packages (from wandb[media]) (11.2.1)\n",
            "Requirement already satisfied: rdkit in /usr/local/lib/python3.11/dist-packages (from wandb[media]) (2025.3.3)\n",
            "Requirement already satisfied: soundfile in /usr/local/lib/python3.11/dist-packages (from wandb[media]) (0.13.1)\n",
            "Requirement already satisfied: Mako in /usr/lib/python3/dist-packages (from alembic>=1.5.0->optuna) (1.1.3)\n",
            "Requirement already satisfied: gitdb<5,>=4.0.1 in /usr/local/lib/python3.11/dist-packages (from gitpython!=3.1.29,>=1.0.0->wandb[media]) (4.0.12)\n",
            "Requirement already satisfied: attrs>=22.2.0 in /usr/local/lib/python3.11/dist-packages (from jsonschema>=2.6->nbformat) (25.3.0)\n",
            "Requirement already satisfied: jsonschema-specifications>=2023.03.6 in /usr/local/lib/python3.11/dist-packages (from jsonschema>=2.6->nbformat) (2025.4.1)\n",
            "Requirement already satisfied: referencing>=0.28.4 in /usr/local/lib/python3.11/dist-packages (from jsonschema>=2.6->nbformat) (0.36.2)\n",
            "Requirement already satisfied: rpds-py>=0.7.1 in /usr/local/lib/python3.11/dist-packages (from jsonschema>=2.6->nbformat) (0.25.1)\n",
            "Requirement already satisfied: decorator<6.0,>=4.0.2 in /usr/local/lib/python3.11/dist-packages (from moviepy>=1.0.0->wandb[media]) (5.2.1)\n",
            "Requirement already satisfied: imageio_ffmpeg>=0.2.0 in /usr/local/lib/python3.11/dist-packages (from moviepy>=1.0.0->wandb[media]) (0.6.0)\n",
            "Requirement already satisfied: proglog<=1.0.0 in /usr/local/lib/python3.11/dist-packages (from moviepy>=1.0.0->wandb[media]) (0.1.12)\n",
            "Requirement already satisfied: python-dotenv>=0.10 in /usr/local/lib/python3.11/dist-packages (from moviepy>=1.0.0->wandb[media]) (1.1.1)\n",
            "Requirement already satisfied: annotated-types>=0.6.0 in /usr/local/lib/python3.11/dist-packages (from pydantic<3->wandb[media]) (0.7.0)\n",
            "Requirement already satisfied: pydantic-core==2.33.2 in /usr/local/lib/python3.11/dist-packages (from pydantic<3->wandb[media]) (2.33.2)\n",
            "Requirement already satisfied: typing-inspection>=0.4.0 in /usr/local/lib/python3.11/dist-packages (from pydantic<3->wandb[media]) (0.4.1)\n",
            "Requirement already satisfied: charset-normalizer<4,>=2 in /usr/local/lib/python3.11/dist-packages (from requests<3,>=2.0.0->wandb[media]) (3.4.2)\n",
            "Requirement already satisfied: idna<4,>=2.5 in /usr/local/lib/python3.11/dist-packages (from requests<3,>=2.0.0->wandb[media]) (3.10)\n",
            "Requirement already satisfied: urllib3<3,>=1.21.1 in /usr/local/lib/python3.11/dist-packages (from requests<3,>=2.0.0->wandb[media]) (2.4.0)\n",
            "Requirement already satisfied: certifi>=2017.4.17 in /usr/local/lib/python3.11/dist-packages (from requests<3,>=2.0.0->wandb[media]) (2025.6.15)\n",
            "Requirement already satisfied: greenlet>=1 in /usr/local/lib/python3.11/dist-packages (from sqlalchemy>=1.4.2->optuna) (3.2.3)\n",
            "Requirement already satisfied: Jinja2>=2.9 in /usr/local/lib/python3.11/dist-packages (from bokeh->wandb[media]) (3.1.6)\n",
            "Requirement already satisfied: contourpy>=1.2 in /usr/local/lib/python3.11/dist-packages (from bokeh->wandb[media]) (1.3.2)\n",
            "Requirement already satisfied: narwhals>=1.13 in /usr/local/lib/python3.11/dist-packages (from bokeh->wandb[media]) (1.44.0)\n",
            "Requirement already satisfied: pandas>=1.2 in /usr/local/lib/python3.11/dist-packages (from bokeh->wandb[media]) (2.2.2)\n",
            "Requirement already satisfied: tornado>=6.2 in /usr/local/lib/python3.11/dist-packages (from bokeh->wandb[media]) (6.4.2)\n",
            "Requirement already satisfied: xyzservices>=2021.09.1 in /usr/local/lib/python3.11/dist-packages (from bokeh->wandb[media]) (2025.4.0)\n",
            "Requirement already satisfied: scipy>=1.6.0 in /usr/local/lib/python3.11/dist-packages (from scikit-learn->optuna-dashboard) (1.15.3)\n",
            "Requirement already satisfied: joblib>=1.2.0 in /usr/local/lib/python3.11/dist-packages (from scikit-learn->optuna-dashboard) (1.5.1)\n",
            "Requirement already satisfied: threadpoolctl>=3.1.0 in /usr/local/lib/python3.11/dist-packages (from scikit-learn->optuna-dashboard) (3.6.0)\n",
            "Requirement already satisfied: cffi>=1.0 in /usr/local/lib/python3.11/dist-packages (from soundfile->wandb[media]) (1.17.1)\n",
            "Requirement already satisfied: pycparser in /usr/local/lib/python3.11/dist-packages (from cffi>=1.0->soundfile->wandb[media]) (2.22)\n",
            "Requirement already satisfied: smmap<6,>=3.0.1 in /usr/local/lib/python3.11/dist-packages (from gitdb<5,>=4.0.1->gitpython!=3.1.29,>=1.0.0->wandb[media]) (5.0.2)\n",
            "Requirement already satisfied: MarkupSafe>=2.0 in /usr/local/lib/python3.11/dist-packages (from Jinja2>=2.9->bokeh->wandb[media]) (3.0.2)\n",
            "Requirement already satisfied: python-dateutil>=2.8.2 in /usr/local/lib/python3.11/dist-packages (from pandas>=1.2->bokeh->wandb[media]) (2.9.0.post0)\n",
            "Requirement already satisfied: pytz>=2020.1 in /usr/local/lib/python3.11/dist-packages (from pandas>=1.2->bokeh->wandb[media]) (2025.2)\n",
            "Requirement already satisfied: tzdata>=2022.7 in /usr/local/lib/python3.11/dist-packages (from pandas>=1.2->bokeh->wandb[media]) (2025.2)\n",
            "Requirement already satisfied: six>=1.5 in /usr/local/lib/python3.11/dist-packages (from python-dateutil>=2.8.2->pandas>=1.2->bokeh->wandb[media]) (1.17.0)\n"
          ]
        }
      ],
      "execution_count": 3
    },
    {
      "cell_type": "code",
      "source": [
        "!pip install lightning"
      ],
      "metadata": {
        "trusted": true,
        "execution": {
          "iopub.status.busy": "2025-06-26T05:03:48.418671Z",
          "iopub.execute_input": "2025-06-26T05:03:48.418986Z",
          "iopub.status.idle": "2025-06-26T05:05:04.460276Z",
          "shell.execute_reply.started": "2025-06-26T05:03:48.41895Z",
          "shell.execute_reply": "2025-06-26T05:05:04.459408Z"
        },
        "colab": {
          "base_uri": "https://localhost:8080/"
        },
        "id": "bG9ZBRkYp79-",
        "outputId": "f11b2a10-d2cb-436d-b423-beb97a5971b5"
      },
      "outputs": [
        {
          "output_type": "stream",
          "name": "stdout",
          "text": [
            "Requirement already satisfied: lightning in /usr/local/lib/python3.11/dist-packages (2.5.2)\n",
            "Requirement already satisfied: PyYAML<8.0,>=5.4 in /usr/local/lib/python3.11/dist-packages (from lightning) (6.0.2)\n",
            "Requirement already satisfied: fsspec<2027.0,>=2022.5.0 in /usr/local/lib/python3.11/dist-packages (from fsspec[http]<2027.0,>=2022.5.0->lightning) (2025.5.1)\n",
            "Requirement already satisfied: lightning-utilities<2.0,>=0.10.0 in /usr/local/lib/python3.11/dist-packages (from lightning) (0.14.3)\n",
            "Requirement already satisfied: packaging<27.0,>=20.0 in /usr/local/lib/python3.11/dist-packages (from lightning) (25.0)\n",
            "Requirement already satisfied: torch<4.0,>=2.1.0 in /usr/local/lib/python3.11/dist-packages (from lightning) (2.6.0+cpu)\n",
            "Requirement already satisfied: torchmetrics<3.0,>=0.7.0 in /usr/local/lib/python3.11/dist-packages (from lightning) (1.7.3)\n",
            "Requirement already satisfied: tqdm<6.0,>=4.57.0 in /usr/local/lib/python3.11/dist-packages (from lightning) (4.67.1)\n",
            "Requirement already satisfied: typing-extensions<6.0,>=4.4.0 in /usr/local/lib/python3.11/dist-packages (from lightning) (4.14.0)\n",
            "Requirement already satisfied: pytorch-lightning in /usr/local/lib/python3.11/dist-packages (from lightning) (2.5.2)\n",
            "Requirement already satisfied: aiohttp!=4.0.0a0,!=4.0.0a1 in /usr/local/lib/python3.11/dist-packages (from fsspec[http]<2027.0,>=2022.5.0->lightning) (3.11.15)\n",
            "Requirement already satisfied: setuptools in /usr/local/lib/python3.11/dist-packages (from lightning-utilities<2.0,>=0.10.0->lightning) (75.2.0)\n",
            "Requirement already satisfied: filelock in /usr/local/lib/python3.11/dist-packages (from torch<4.0,>=2.1.0->lightning) (3.18.0)\n",
            "Requirement already satisfied: networkx in /usr/local/lib/python3.11/dist-packages (from torch<4.0,>=2.1.0->lightning) (3.5)\n",
            "Requirement already satisfied: jinja2 in /usr/local/lib/python3.11/dist-packages (from torch<4.0,>=2.1.0->lightning) (3.1.6)\n",
            "Requirement already satisfied: sympy==1.13.1 in /usr/local/lib/python3.11/dist-packages (from torch<4.0,>=2.1.0->lightning) (1.13.1)\n",
            "Requirement already satisfied: mpmath<1.4,>=1.1.0 in /usr/local/lib/python3.11/dist-packages (from sympy==1.13.1->torch<4.0,>=2.1.0->lightning) (1.3.0)\n",
            "Requirement already satisfied: numpy>1.20.0 in /usr/local/lib/python3.11/dist-packages (from torchmetrics<3.0,>=0.7.0->lightning) (2.0.2)\n",
            "Requirement already satisfied: aiohappyeyeballs>=2.3.0 in /usr/local/lib/python3.11/dist-packages (from aiohttp!=4.0.0a0,!=4.0.0a1->fsspec[http]<2027.0,>=2022.5.0->lightning) (2.6.1)\n",
            "Requirement already satisfied: aiosignal>=1.1.2 in /usr/local/lib/python3.11/dist-packages (from aiohttp!=4.0.0a0,!=4.0.0a1->fsspec[http]<2027.0,>=2022.5.0->lightning) (1.3.2)\n",
            "Requirement already satisfied: attrs>=17.3.0 in /usr/local/lib/python3.11/dist-packages (from aiohttp!=4.0.0a0,!=4.0.0a1->fsspec[http]<2027.0,>=2022.5.0->lightning) (25.3.0)\n",
            "Requirement already satisfied: frozenlist>=1.1.1 in /usr/local/lib/python3.11/dist-packages (from aiohttp!=4.0.0a0,!=4.0.0a1->fsspec[http]<2027.0,>=2022.5.0->lightning) (1.7.0)\n",
            "Requirement already satisfied: multidict<7.0,>=4.5 in /usr/local/lib/python3.11/dist-packages (from aiohttp!=4.0.0a0,!=4.0.0a1->fsspec[http]<2027.0,>=2022.5.0->lightning) (6.5.0)\n",
            "Requirement already satisfied: propcache>=0.2.0 in /usr/local/lib/python3.11/dist-packages (from aiohttp!=4.0.0a0,!=4.0.0a1->fsspec[http]<2027.0,>=2022.5.0->lightning) (0.3.2)\n",
            "Requirement already satisfied: yarl<2.0,>=1.17.0 in /usr/local/lib/python3.11/dist-packages (from aiohttp!=4.0.0a0,!=4.0.0a1->fsspec[http]<2027.0,>=2022.5.0->lightning) (1.20.1)\n",
            "Requirement already satisfied: MarkupSafe>=2.0 in /usr/local/lib/python3.11/dist-packages (from jinja2->torch<4.0,>=2.1.0->lightning) (3.0.2)\n",
            "Requirement already satisfied: idna>=2.0 in /usr/local/lib/python3.11/dist-packages (from yarl<2.0,>=1.17.0->aiohttp!=4.0.0a0,!=4.0.0a1->fsspec[http]<2027.0,>=2022.5.0->lightning) (3.10)\n"
          ]
        }
      ],
      "execution_count": 4
    },
    {
      "cell_type": "code",
      "source": [
        "import numpy as np\n",
        "from numpy.typing import NDArray\n",
        "from typing import List, Any, Tuple, Dict\n",
        "import pandas as pd\n",
        "import os\n",
        "import matplotlib.pyplot as plt\n",
        "import seaborn as sns\n",
        "from PIL import Image\n",
        "from pathlib import Path\n",
        "\n",
        "from IPython import display\n",
        "\n",
        "import torchvision.transforms as transforms\n",
        "from torchvision.utils import make_grid\n",
        "import torch.nn.functional as F\n",
        "import torch\n",
        "from torch import nn\n",
        "from torch.utils.data import DataLoader, random_split, Dataset\n",
        "from lightning.pytorch.loggers import WandbLogger\n",
        "import lightning.pytorch as pl\n",
        "from mpl_toolkits.axes_grid1 import ImageGrid\n",
        "from math import ceil\n",
        "import wandb\n",
        "import gc\n",
        "import optuna\n",
        "from optuna.visualization import plot_optimization_history, plot_parallel_coordinate, plot_param_importances\n",
        "from munch import DefaultMunch, munchify\n",
        "import logging\n",
        "import sys\n",
        "from omegaconf import OmegaConf\n",
        "from tqdm import tqdm\n",
        "from datetime import datetime\n",
        "import random\n",
        "import json\n",
        "import glob\n",
        "import time\n",
        "import itertools\n",
        "\n",
        "import jdc\n",
        "%matplotlib inline"
      ],
      "metadata": {
        "id": "lV-IPTcOUkdx",
        "trusted": true,
        "execution": {
          "iopub.status.busy": "2025-06-26T05:05:16.6225Z",
          "iopub.execute_input": "2025-06-26T05:05:16.622767Z",
          "iopub.status.idle": "2025-06-26T05:05:34.014513Z",
          "shell.execute_reply.started": "2025-06-26T05:05:16.62274Z",
          "shell.execute_reply": "2025-06-26T05:05:34.013985Z"
        }
      },
      "outputs": [],
      "execution_count": null
    },
    {
      "cell_type": "code",
      "source": [
        "os.environ[\"CUDA_VISIBLE_DEVICES\"]=\"0\""
      ],
      "metadata": {
        "trusted": true,
        "execution": {
          "iopub.status.busy": "2025-06-26T05:05:34.015097Z",
          "iopub.execute_input": "2025-06-26T05:05:34.015465Z",
          "iopub.status.idle": "2025-06-26T05:05:34.019095Z",
          "shell.execute_reply.started": "2025-06-26T05:05:34.015448Z",
          "shell.execute_reply": "2025-06-26T05:05:34.018299Z"
        },
        "id": "PFo5fsVVp7-A"
      },
      "outputs": [],
      "execution_count": null
    },
    {
      "cell_type": "code",
      "source": [
        "from google.colab import userdata\n",
        "key = userdata.get('wandb_key')"
      ],
      "metadata": {
        "trusted": true,
        "execution": {
          "iopub.status.busy": "2025-06-26T05:05:34.020035Z",
          "iopub.execute_input": "2025-06-26T05:05:34.020299Z",
          "iopub.status.idle": "2025-06-26T05:05:34.17157Z",
          "shell.execute_reply.started": "2025-06-26T05:05:34.020276Z",
          "shell.execute_reply": "2025-06-26T05:05:34.170827Z"
        },
        "id": "QwkfwMePp7-B"
      },
      "outputs": [],
      "execution_count": null
    },
    {
      "cell_type": "code",
      "source": [
        "!wandb login $key"
      ],
      "metadata": {
        "trusted": true,
        "execution": {
          "iopub.status.busy": "2025-06-26T05:05:34.172419Z",
          "iopub.execute_input": "2025-06-26T05:05:34.172687Z",
          "iopub.status.idle": "2025-06-26T05:05:38.534736Z",
          "shell.execute_reply.started": "2025-06-26T05:05:34.172664Z",
          "shell.execute_reply": "2025-06-26T05:05:38.533925Z"
        },
        "id": "xjqtB5l4p7-C"
      },
      "outputs": [],
      "execution_count": null
    },
    {
      "cell_type": "code",
      "source": [
        "wandb.init(project='gan')"
      ],
      "metadata": {
        "trusted": true,
        "execution": {
          "iopub.status.busy": "2025-06-26T05:05:38.536128Z",
          "iopub.execute_input": "2025-06-26T05:05:38.53703Z",
          "iopub.status.idle": "2025-06-26T05:05:50.89191Z",
          "shell.execute_reply.started": "2025-06-26T05:05:38.536992Z",
          "shell.execute_reply": "2025-06-26T05:05:50.891129Z"
        },
        "id": "yuinE2l2p7-C"
      },
      "outputs": [],
      "execution_count": null
    },
    {
      "cell_type": "code",
      "source": [
        "logger = WandbLogger(project=\"gan\", offline=True, save_dir=\"/content/\")"
      ],
      "metadata": {
        "trusted": true,
        "execution": {
          "iopub.status.busy": "2025-06-26T05:05:50.892758Z",
          "iopub.execute_input": "2025-06-26T05:05:50.893046Z",
          "iopub.status.idle": "2025-06-26T05:05:50.898732Z",
          "shell.execute_reply.started": "2025-06-26T05:05:50.893015Z",
          "shell.execute_reply": "2025-06-26T05:05:50.898188Z"
        },
        "id": "jv1TNYqrp7-C"
      },
      "outputs": [],
      "execution_count": null
    },
    {
      "cell_type": "markdown",
      "source": [
        "## Project Topic: **GAN Mini-Project**"
      ],
      "metadata": {
        "id": "SgtYW2IPMYTN"
      }
    },
    {
      "cell_type": "markdown",
      "source": [
        "This aim of this project is to train a generative model to generate images that"
      ],
      "metadata": {
        "id": "ORGTAAbzp7-D"
      }
    },
    {
      "cell_type": "code",
      "source": [
        "WRK_DIR = gan_getting_started_path\n",
        "MONET_DIR = f\"{WRK_DIR}/monet_jpg\"\n",
        "PHOTO_DIR = f\"{WRK_DIR}/photo_jpg/\""
      ],
      "metadata": {
        "trusted": true,
        "execution": {
          "iopub.status.busy": "2025-06-26T05:05:50.901098Z",
          "iopub.execute_input": "2025-06-26T05:05:50.901543Z",
          "iopub.status.idle": "2025-06-26T05:05:50.91671Z",
          "shell.execute_reply.started": "2025-06-26T05:05:50.901522Z",
          "shell.execute_reply": "2025-06-26T05:05:50.916071Z"
        },
        "id": "tPVFb3a4p7-D"
      },
      "outputs": [],
      "execution_count": null
    },
    {
      "cell_type": "code",
      "source": [
        "BATCH_SIZE = 186\n",
        "img_height = 256\n",
        "img_width = 256\n",
        "MAX_EPOCHS = 3\n",
        "NUM_WORKERS= 3"
      ],
      "metadata": {
        "trusted": true,
        "execution": {
          "iopub.status.busy": "2025-06-26T05:05:50.91791Z",
          "iopub.execute_input": "2025-06-26T05:05:50.918146Z",
          "iopub.status.idle": "2025-06-26T05:05:50.935443Z",
          "shell.execute_reply.started": "2025-06-26T05:05:50.918123Z",
          "shell.execute_reply": "2025-06-26T05:05:50.934842Z"
        },
        "id": "gE_2PPeqp7-D"
      },
      "outputs": [],
      "execution_count": null
    },
    {
      "cell_type": "code",
      "source": [
        "MONET_FILENAMES = glob.glob(os.path.join(MONET_DIR, '*.jpg'))\n",
        "PHOTO_FILENAMES = glob.glob(os.path.join(PHOTO_DIR, '*.jpg'))"
      ],
      "metadata": {
        "trusted": true,
        "execution": {
          "iopub.status.busy": "2025-06-26T05:05:50.936034Z",
          "iopub.execute_input": "2025-06-26T05:05:50.936233Z",
          "iopub.status.idle": "2025-06-26T05:05:51.056932Z",
          "shell.execute_reply.started": "2025-06-26T05:05:50.936217Z",
          "shell.execute_reply": "2025-06-26T05:05:51.056326Z"
        },
        "id": "SvamkFIrp7-D"
      },
      "outputs": [],
      "execution_count": null
    },
    {
      "cell_type": "code",
      "source": [
        "MONET_FILENAMES[0]"
      ],
      "metadata": {
        "id": "9iBQb13grF9X"
      },
      "execution_count": null,
      "outputs": []
    },
    {
      "cell_type": "markdown",
      "source": [
        "### Trainer"
      ],
      "metadata": {
        "id": "2P4d0E5JbxbR"
      }
    },
    {
      "cell_type": "code",
      "source": [
        "class GANDataset(Dataset):\n",
        "    def __init__(self, df, transform=None):\n",
        "        self.df = np.asarray(df[0]), np.asarray(df[1])\n",
        "        self.transform = transform\n",
        "        self.dims = (1, img_height, img_width)\n",
        "\n",
        "    def __len__(self):\n",
        "        return len(self.df[0])\n",
        "\n",
        "    def __getitem__(self, idx):\n",
        "        if torch.is_tensor(idx):\n",
        "            idx = idx.tolist()\n",
        "        x, y = self.df[0][idx], self.df[1][idx]\n",
        "        x, y = Image.open(x), Image.open(y)\n",
        "        if self.transform:\n",
        "            x, y = self.transform(x), self.transform(y)\n",
        "        return x, y"
      ],
      "metadata": {
        "trusted": true,
        "execution": {
          "iopub.status.busy": "2025-06-26T05:05:51.057661Z",
          "iopub.execute_input": "2025-06-26T05:05:51.057886Z",
          "iopub.status.idle": "2025-06-26T05:05:51.064095Z",
          "shell.execute_reply.started": "2025-06-26T05:05:51.057849Z",
          "shell.execute_reply": "2025-06-26T05:05:51.063407Z"
        },
        "id": "jgz02noWp7-D"
      },
      "outputs": [],
      "execution_count": null
    },
    {
      "cell_type": "code",
      "source": [
        "class GANDataModule(pl.LightningDataModule):\n",
        "    def __init__(\n",
        "        self,\n",
        "        dfs: Any,\n",
        "        batch_size: int = BATCH_SIZE,\n",
        "        num_workers: int = NUM_WORKERS,\n",
        "    ):\n",
        "        super().__init__()\n",
        "        self.df = dfs\n",
        "        self.batch_size = batch_size\n",
        "        self.num_workers = num_workers\n",
        "\n",
        "        self.transform = transforms.Compose([\n",
        "                transforms.Resize(img_width),\n",
        "                transforms.CenterCrop(img_width),\n",
        "                transforms.ToTensor(),\n",
        "                transforms.Normalize([0.5, 0.5, 0.5], [0.5, 0.5, 0.5])\n",
        "            ])\n",
        "\n",
        "        self.dims = (1, img_height, img_width)\n",
        "\n",
        "    def setup(self, stage=None):\n",
        "        # Assign train/val datasets for use in dataloaders\n",
        "        if stage == \"fit\" or stage is None:\n",
        "            monet_ds = GANDataset(self.df, self.transform)\n",
        "            self.train_ds, self.val_ds = random_split(monet_ds, [int(0.8 * len(self.df)), int(0.2 * len(self.df))])\n",
        "\n",
        "    def train_dataloader(self):\n",
        "        return DataLoader(\n",
        "            self.train_ds,\n",
        "            batch_size=self.batch_size,\n",
        "        )\n",
        "\n",
        "    def val_dataloader(self):\n",
        "        return DataLoader(self.val_ds, batch_size=self.batch_size)"
      ],
      "metadata": {
        "trusted": true,
        "execution": {
          "iopub.status.busy": "2025-06-26T05:05:51.064732Z",
          "iopub.execute_input": "2025-06-26T05:05:51.064966Z",
          "iopub.status.idle": "2025-06-26T05:05:51.084462Z",
          "shell.execute_reply.started": "2025-06-26T05:05:51.06495Z",
          "shell.execute_reply": "2025-06-26T05:05:51.083849Z"
        },
        "id": "xWifypWnp7-D"
      },
      "outputs": [],
      "execution_count": null
    },
    {
      "cell_type": "code",
      "source": [
        "class ConvolutionalBlock(nn.Module):\n",
        "    def __init__(\n",
        "        self,\n",
        "        in_channels: int,\n",
        "        out_channels: int,\n",
        "        is_downsampling: bool = True,\n",
        "        add_activation: bool = True,\n",
        "        **kwargs\n",
        "    ):\n",
        "        super().__init__()\n",
        "        if is_downsampling:\n",
        "            self.conv = nn.Sequential(\n",
        "                nn.Conv2d(in_channels, out_channels, padding_mode=\"reflect\", **kwargs),\n",
        "                nn.InstanceNorm2d(out_channels),\n",
        "                nn.ReLU(inplace=True) if add_activation else nn.Identity(),\n",
        "            )\n",
        "        else:\n",
        "            self.conv = nn.Sequential(\n",
        "                nn.ConvTranspose2d(in_channels, out_channels, **kwargs),\n",
        "                nn.InstanceNorm2d(out_channels),\n",
        "                nn.ReLU(inplace=True) if add_activation else nn.Identity(),\n",
        "            )\n",
        "\n",
        "    def forward(self, x):\n",
        "        return self.conv(x)"
      ],
      "metadata": {
        "trusted": true,
        "execution": {
          "iopub.status.busy": "2025-06-26T05:05:51.085176Z",
          "iopub.execute_input": "2025-06-26T05:05:51.085366Z",
          "iopub.status.idle": "2025-06-26T05:05:51.100377Z",
          "shell.execute_reply.started": "2025-06-26T05:05:51.085352Z",
          "shell.execute_reply": "2025-06-26T05:05:51.099881Z"
        },
        "id": "zoB5lTfup7-E"
      },
      "outputs": [],
      "execution_count": null
    },
    {
      "cell_type": "code",
      "source": [
        "class ResidualBlock(nn.Module):\n",
        "    def __init__(self, channels: int):\n",
        "        super().__init__()\n",
        "        self.block = nn.Sequential(\n",
        "            ConvolutionalBlock(channels, channels, add_activation=True, kernel_size=3, padding=1),\n",
        "            ConvolutionalBlock(channels, channels, add_activation=False, kernel_size=3, padding=1),\n",
        "        )\n",
        "\n",
        "    def forward(self, x):\n",
        "        return x + self.block(x)"
      ],
      "metadata": {
        "trusted": true,
        "execution": {
          "iopub.status.busy": "2025-06-26T05:05:51.101069Z",
          "iopub.execute_input": "2025-06-26T05:05:51.101234Z",
          "iopub.status.idle": "2025-06-26T05:05:51.119785Z",
          "shell.execute_reply.started": "2025-06-26T05:05:51.101222Z",
          "shell.execute_reply": "2025-06-26T05:05:51.119123Z"
        },
        "id": "YwSf3ecMp7-E"
      },
      "outputs": [],
      "execution_count": null
    },
    {
      "cell_type": "code",
      "source": [
        "class Generator(nn.Module):\n",
        "    def __init__(\n",
        "        self, img_channels: int=3, num_features: int = 64, num_residuals: int = 2\n",
        "    ):\n",
        "        \"\"\"\n",
        "        Generator consists of 2 layers of downsampling/encoding layer,\n",
        "        followed by 6 residual blocks for 128 × 128 training images\n",
        "        and then 3 upsampling/decoding layer.\n",
        "\n",
        "        The network with 6 residual blocks can be written as:\n",
        "        c7s1–64, d128, d256, R256, R256, R256, R256, R256, R256, u128, u64, and c7s1–3.\n",
        "        \"\"\"\n",
        "        super().__init__()\n",
        "        self.initial_layer = nn.Sequential(\n",
        "            nn.Conv2d(\n",
        "                img_channels,\n",
        "                num_features,\n",
        "                kernel_size=7,\n",
        "                stride=1,\n",
        "                padding=3,\n",
        "                padding_mode=\"reflect\",\n",
        "            ),\n",
        "            nn.InstanceNorm2d(num_features),\n",
        "            nn.ReLU(inplace=True),\n",
        "        )\n",
        "\n",
        "        self.downsampling_layers = nn.ModuleList(\n",
        "            [\n",
        "                ConvolutionalBlock(\n",
        "                    num_features,\n",
        "                    num_features * 2,\n",
        "                    is_downsampling=True,\n",
        "                    kernel_size=3,\n",
        "                    stride=2,\n",
        "                    padding=1,\n",
        "                ),\n",
        "                ConvolutionalBlock(\n",
        "                    num_features * 2,\n",
        "                    num_features * 4,\n",
        "                    is_downsampling=True,\n",
        "                    kernel_size=3,\n",
        "                    stride=2,\n",
        "                    padding=1,\n",
        "                ),\n",
        "            ]\n",
        "        )\n",
        "\n",
        "        self.residual_layers = nn.Sequential(\n",
        "            *[ResidualBlock(num_features * 4) for _ in range(num_residuals)]\n",
        "        )\n",
        "\n",
        "        self.upsampling_layers = nn.ModuleList(\n",
        "            [\n",
        "                ConvolutionalBlock(\n",
        "                    num_features * 4,\n",
        "                    num_features * 2,\n",
        "                    is_downsampling=False,\n",
        "                    kernel_size=3,\n",
        "                    stride=2,\n",
        "                    padding=1,\n",
        "                    output_padding=1,\n",
        "                ),\n",
        "                ConvolutionalBlock(\n",
        "                    num_features * 2,\n",
        "                    num_features * 1,\n",
        "                    is_downsampling=False,\n",
        "                    kernel_size=3,\n",
        "                    stride=2,\n",
        "                    padding=1,\n",
        "                    output_padding=1,\n",
        "                ),\n",
        "            ]\n",
        "        )\n",
        "\n",
        "        self.last_layer = nn.Conv2d(\n",
        "            num_features * 1,\n",
        "            img_channels,\n",
        "            kernel_size=7,\n",
        "            stride=1,\n",
        "            padding=3,\n",
        "            padding_mode=\"reflect\",\n",
        "        )\n",
        "\n",
        "    def forward(self, x):\n",
        "        x = self.initial_layer(x)\n",
        "        for layer in self.downsampling_layers:\n",
        "            x = layer(x)\n",
        "        x = self.residual_layers(x)\n",
        "        for layer in self.upsampling_layers:\n",
        "            x = layer(x)\n",
        "        return torch.tanh(self.last_layer(x))"
      ],
      "metadata": {
        "trusted": true,
        "execution": {
          "iopub.status.busy": "2025-06-26T05:10:57.2574Z",
          "iopub.execute_input": "2025-06-26T05:10:57.257994Z",
          "iopub.status.idle": "2025-06-26T05:10:57.267Z",
          "shell.execute_reply.started": "2025-06-26T05:10:57.25797Z",
          "shell.execute_reply": "2025-06-26T05:10:57.266397Z"
        },
        "id": "lnNvGrk-p7-E"
      },
      "outputs": [],
      "execution_count": null
    },
    {
      "cell_type": "code",
      "source": [
        "class ConvInstanceNormLeakyReLUBlock(nn.Module):\n",
        "    def __init__(self, in_channels: int, out_channels: int, stride: int):\n",
        "        \"\"\"\n",
        "        Class object initialization for Convolution-InstanceNorm-LeakyReLU layer\n",
        "\n",
        "        We use leaky ReLUs with a slope of 0.2.\n",
        "        \"\"\"\n",
        "        super().__init__()\n",
        "        self.conv = nn.Sequential(\n",
        "            nn.Conv2d(\n",
        "                in_channels,\n",
        "                out_channels,\n",
        "                kernel_size=4,\n",
        "                stride=stride,\n",
        "                padding=1,\n",
        "                bias=True,\n",
        "                padding_mode=\"reflect\",\n",
        "            ),\n",
        "            nn.InstanceNorm2d(out_channels),\n",
        "            nn.LeakyReLU(0.2, inplace=True),\n",
        "        )\n",
        "\n",
        "    def forward(self, x):\n",
        "        return self.conv(x)\n"
      ],
      "metadata": {
        "trusted": true,
        "execution": {
          "iopub.status.busy": "2025-06-26T05:10:59.33181Z",
          "iopub.execute_input": "2025-06-26T05:10:59.332376Z",
          "iopub.status.idle": "2025-06-26T05:10:59.338298Z",
          "shell.execute_reply.started": "2025-06-26T05:10:59.332355Z",
          "shell.execute_reply": "2025-06-26T05:10:59.337492Z"
        },
        "id": "UnT_0XSKp7-E"
      },
      "outputs": [],
      "execution_count": null
    },
    {
      "cell_type": "code",
      "source": [
        "class Discriminator(nn.Module):\n",
        "    def __init__(self, in_channels=3, features=[64, 128, 256, 512]):\n",
        "        \"\"\"\n",
        "        Let Ck denote a 4 × 4 Convolution-InstanceNorm-LeakyReLU layer with\n",
        "        k filters and stride 2. Discriminator architecture is: C64-C128-C256-C512.\n",
        "\n",
        "        After the last layer, we apply a convolution to produce a 1-dimensional\n",
        "        output.\n",
        "\n",
        "        We use leaky ReLUs with a slope of 0.2.\n",
        "        \"\"\"\n",
        "        super().__init__()\n",
        "        self.initial_layer = nn.Sequential(\n",
        "            nn.Conv2d(\n",
        "                in_channels,\n",
        "                features[0],\n",
        "                kernel_size=4,\n",
        "                stride=2,\n",
        "                padding=1,\n",
        "                padding_mode=\"reflect\",\n",
        "            ),\n",
        "            nn.LeakyReLU(0.2, inplace=True),\n",
        "        )\n",
        "\n",
        "        layers = []\n",
        "        in_channels = features[0]\n",
        "        for feature in features[1:]:\n",
        "            layers.append(\n",
        "                ConvInstanceNormLeakyReLUBlock(\n",
        "                    in_channels,\n",
        "                    feature,\n",
        "                    stride=1 if feature == features[-1] else 2,\n",
        "                )\n",
        "            )\n",
        "            in_channels = feature\n",
        "\n",
        "        # After the last layer, we apply a convolution to produce a 1-dimensional output\n",
        "        layers.append(\n",
        "            nn.Conv2d(\n",
        "                in_channels,\n",
        "                1,\n",
        "                kernel_size=4,\n",
        "                stride=1,\n",
        "                padding=1,\n",
        "                padding_mode=\"reflect\",\n",
        "            )\n",
        "        )\n",
        "        self.model = nn.Sequential(*layers)\n",
        "\n",
        "    def forward(self, x):\n",
        "        x = self.initial_layer(x)\n",
        "\n",
        "        # feed the model output into a sigmoid function to make a 1/0 label\n",
        "        return torch.sigmoid(self.model(x))"
      ],
      "metadata": {
        "trusted": true,
        "execution": {
          "iopub.status.busy": "2025-06-26T05:10:59.761793Z",
          "iopub.execute_input": "2025-06-26T05:10:59.76207Z",
          "iopub.status.idle": "2025-06-26T05:10:59.769422Z",
          "shell.execute_reply.started": "2025-06-26T05:10:59.762052Z",
          "shell.execute_reply": "2025-06-26T05:10:59.768705Z"
        },
        "id": "D-IlxywPp7-E"
      },
      "outputs": [],
      "execution_count": null
    },
    {
      "cell_type": "code",
      "source": [
        "#from https://docs.pytorch.org/tutorials/beginner/dcgan_faces_tutorial.html\n",
        "# custom weights initialization called on ``netG`` and ``netD``\n",
        "def weights_init(m):\n",
        "    classname = m.__class__.__name__\n",
        "    if classname.find('Conv') != -1:\n",
        "        nn.init.normal_(m.weight.data, 0.0, 0.02)\n",
        "    elif classname.find('BatchNorm') != -1:\n",
        "        nn.init.normal_(m.weight.data, 1.0, 0.02)\n",
        "        nn.init.constant_(m.bias.data, 0)"
      ],
      "metadata": {
        "trusted": true,
        "execution": {
          "iopub.status.busy": "2025-06-26T05:11:10.98323Z",
          "iopub.execute_input": "2025-06-26T05:11:10.983496Z",
          "iopub.status.idle": "2025-06-26T05:11:10.988995Z",
          "shell.execute_reply.started": "2025-06-26T05:11:10.983477Z",
          "shell.execute_reply": "2025-06-26T05:11:10.988402Z"
        },
        "id": "o_vrF38ep7-F"
      },
      "outputs": [],
      "execution_count": null
    },
    {
      "cell_type": "code",
      "source": [
        "class GAN(pl.LightningModule):\n",
        "    def __init__(self, **kwargs):\n",
        "        super().__init__()\n",
        "        self.save_hyperparameters()\n",
        "        self.automatic_optimization = False\n",
        "        # networks\n",
        "        # source domain = monet\n",
        "        # target domain = phot\n",
        "        self.monet_gen = Generator() # monet => photo\n",
        "        self.photo_gen = Generator() # photo => monet\n",
        "        self.monet_dis = Discriminator() #\n",
        "        self.photo_dis = Discriminator()\n",
        "        self.gan_loss = nn.MSELoss()\n",
        "        self.cycle_loss = nn.L1Loss()\n",
        "        self.identity_loss = nn.L1Loss()\n",
        "        # for m in [self.monet_gen, self.photo_gen, self.monet_dis, self.photo_dis]:\n",
        "        #     m.apply(weights_init)"
      ],
      "metadata": {
        "trusted": true,
        "execution": {
          "iopub.status.busy": "2025-06-26T05:11:12.176672Z",
          "iopub.execute_input": "2025-06-26T05:11:12.176962Z",
          "iopub.status.idle": "2025-06-26T05:11:12.183224Z",
          "shell.execute_reply.started": "2025-06-26T05:11:12.176942Z",
          "shell.execute_reply": "2025-06-26T05:11:12.182664Z"
        },
        "id": "Q4wbyEK4p7-F"
      },
      "outputs": [],
      "execution_count": null
    },
    {
      "cell_type": "code",
      "source": [
        "%%add_to GAN\n",
        "def forward(self, real_monet, real_photo):\n",
        "    fake_photo = self.monet_gen(real_monet)\n",
        "    monet = self.photo_gen(fake_photo)\n",
        "    fake_monet = self.photo_gen(real_photo)\n",
        "    photo = self.monet_gen(fake_monet)\n",
        "    return (monet, fake_monet), (photo, fake_photo)"
      ],
      "metadata": {
        "trusted": true,
        "execution": {
          "iopub.status.busy": "2025-06-26T05:11:14.822175Z",
          "iopub.execute_input": "2025-06-26T05:11:14.822668Z",
          "iopub.status.idle": "2025-06-26T05:11:14.827338Z",
          "shell.execute_reply.started": "2025-06-26T05:11:14.822644Z",
          "shell.execute_reply": "2025-06-26T05:11:14.826614Z"
        },
        "id": "WEemnTLTp7-G"
      },
      "outputs": [],
      "execution_count": null
    },
    {
      "cell_type": "code",
      "source": [
        "%%add_to GAN\n",
        "def configure_optimizers(self):\n",
        "    params = self.hparams\n",
        "    lr = params.lr\n",
        "    b1 = params.b1\n",
        "    b2 = params.b2\n",
        "\n",
        "    opt_g = torch.optim.Adam(itertools.chain(self.monet_gen.parameters(), self.photo_gen.parameters()), lr=lr, betas=(b1, b2))\n",
        "    opt_d = torch.optim.Adam(itertools.chain( self.monet_dis.parameters(), self.photo_dis.parameters()), lr=lr, betas=(b1, b2))\n",
        "    return [opt_g, opt_d], []"
      ],
      "metadata": {
        "trusted": true,
        "execution": {
          "iopub.status.busy": "2025-06-26T05:11:15.808265Z",
          "iopub.execute_input": "2025-06-26T05:11:15.808529Z",
          "iopub.status.idle": "2025-06-26T05:11:15.813354Z",
          "shell.execute_reply.started": "2025-06-26T05:11:15.808509Z",
          "shell.execute_reply": "2025-06-26T05:11:15.812789Z"
        },
        "id": "YbjqeCyXp7-G"
      },
      "outputs": [],
      "execution_count": null
    },
    {
      "cell_type": "code",
      "source": [
        "%%add_to GAN\n",
        "def backward_dis(self, disc, real, fake):\n",
        "    # self.toggle_optimizer()\n",
        "    pred_real = disc(real)\n",
        "    loss_real = self.gan_loss(pred_real, torch.ones_like(pred_real))\n",
        "    pred_fake = disc(fake.detach())\n",
        "    loss_fake = self.gan_loss(pred_fake, torch.zeros_like(pred_fake))\n",
        "    loss = (loss_real + loss_fake) * 0.5\n",
        "    return loss"
      ],
      "metadata": {
        "trusted": true,
        "execution": {
          "iopub.status.busy": "2025-06-26T05:11:16.551443Z",
          "iopub.execute_input": "2025-06-26T05:11:16.551705Z",
          "iopub.status.idle": "2025-06-26T05:11:16.556807Z",
          "shell.execute_reply.started": "2025-06-26T05:11:16.551686Z",
          "shell.execute_reply": "2025-06-26T05:11:16.555981Z"
        },
        "id": "0iONOT6Mp7-G"
      },
      "outputs": [],
      "execution_count": null
    },
    {
      "cell_type": "code",
      "source": [
        "%%add_to GAN\n",
        "def forward(self):\n",
        "    self.fake_photo = self.monet_gen(self.rm)\n",
        "    self.monet = self.photo_gen(self.fake_photo)\n",
        "    self.fake_monet = self.photo_gen(self.rp)\n",
        "    self.photo = self.monet_gen(self.fake_monet)"
      ],
      "metadata": {
        "trusted": true,
        "execution": {
          "iopub.status.busy": "2025-06-26T05:11:20.194469Z",
          "iopub.execute_input": "2025-06-26T05:11:20.194758Z",
          "iopub.status.idle": "2025-06-26T05:11:20.199853Z",
          "shell.execute_reply.started": "2025-06-26T05:11:20.194736Z",
          "shell.execute_reply": "2025-06-26T05:11:20.199211Z"
        },
        "id": "x6aIvounp7-G"
      },
      "outputs": [],
      "execution_count": null
    },
    {
      "cell_type": "code",
      "source": [
        "%%add_to GAN\n",
        "def training_step(self, batch):\n",
        "    real_monet, real_photo = batch\n",
        "    params = self.hparams\n",
        "    optimizer_g, optimizer_d = self.optimizers()\n",
        "\n",
        "    self.rm = real_monet\n",
        "    self.rp = real_photo\n",
        "\n",
        "    self.forward()\n",
        "\n",
        "    self.toggle_optimizer(optimizer_g)\n",
        "    optimizer_g.zero_grad()\n",
        "\n",
        "    idt_monet = self.monet_gen(real_photo)\n",
        "    loss_i_m = self.identity_loss(idt_monet, real_photo) * params.lambda_photo * params.lambda_idt\n",
        "\n",
        "    idt_p = self.photo_gen(real_monet)\n",
        "    loss_i_p = self.identity_loss(idt_p, real_photo) * params.lambda_monet * params.lambda_idt\n",
        "    o1 = self.monet_dis(self.fake_photo)\n",
        "    loss_m_g = self.gan_loss(o1, torch.ones_like(o1).type_as(o1))\n",
        "    o2 = self.photo_dis(self.fake_monet)\n",
        "    loss_p_g = self.gan_loss(o2, torch.ones_like(o2).type_as(o2))\n",
        "\n",
        "    loss_c_m = self.cycle_loss(self.monet, real_photo) * params.lambda_monet\n",
        "    loss_c_p = self.cycle_loss(self.photo, real_monet) * params.lambda_photo\n",
        "    loss_gen = loss_i_m + loss_i_p + loss_m_g + loss_p_g + loss_c_m + loss_c_p\n",
        "    self.manual_backward(loss_gen)\n",
        "    optimizer_g.step()\n",
        "    self.untoggle_optimizer(optimizer_g)\n",
        "\n",
        "    self.toggle_optimizer(optimizer_d)\n",
        "    optimizer_d.zero_grad()\n",
        "    #backward dis monet\n",
        "    loss_monet_gen = self.backward_dis(self.monet_dis, real_photo, self.fake_photo)\n",
        "    self.manual_backward(loss_monet_gen)\n",
        "    # backward dis photo\n",
        "    loss_photo_dis = self.backward_dis(self.photo_dis, real_monet, self.fake_monet)\n",
        "    self.manual_backward(loss_photo_dis)\n",
        "    optimizer_d.step()\n",
        "    self.untoggle_optimizer(optimizer_d)\n",
        "\n",
        "    # log sampled images\n",
        "    m = torch.cat([self.monet, self.fake_monet], axis=0)\n",
        "    p = torch.cat([self.photo, self.fake_photo], axis=0)\n",
        "    self.logger.experiment.log({\"train/generated_monet\": [wandb.Image(m[i]) for i in range(m.shape[0])]}, sync_dist=True)\n",
        "    self.logger.experiment.log({\"train/generated_photo\": [wandb.Image(p[i]) for i in range(p.shape[0])]}, sync_dist=True)"
      ],
      "metadata": {
        "trusted": true,
        "execution": {
          "iopub.status.busy": "2025-06-26T05:11:22.812486Z",
          "iopub.execute_input": "2025-06-26T05:11:22.812799Z",
          "iopub.status.idle": "2025-06-26T05:11:22.818626Z",
          "shell.execute_reply.started": "2025-06-26T05:11:22.812778Z",
          "shell.execute_reply": "2025-06-26T05:11:22.818099Z"
        },
        "id": "7A_1kgmfp7-G"
      },
      "outputs": [],
      "execution_count": null
    },
    {
      "cell_type": "code",
      "source": [
        "%%add_to GAN\n",
        "def validation_step(self, batch, batch_idx):\n",
        "    pass"
      ],
      "metadata": {
        "trusted": true,
        "execution": {
          "iopub.status.busy": "2025-06-26T05:11:25.399667Z",
          "iopub.execute_input": "2025-06-26T05:11:25.399988Z",
          "iopub.status.idle": "2025-06-26T05:11:25.404952Z",
          "shell.execute_reply.started": "2025-06-26T05:11:25.399966Z",
          "shell.execute_reply": "2025-06-26T05:11:25.404416Z"
        },
        "id": "CuPIjQTJp7-G"
      },
      "outputs": [],
      "execution_count": null
    },
    {
      "cell_type": "code",
      "source": [
        "%%add_to GAN\n",
        "def on_validation_epoch_end(self):\n",
        "    self.forward()\n",
        "    # log sampled images\n",
        "    m = torch.cat([self.monet, self.fake_monet], axis=0)\n",
        "    p = torch.cat([self.photo, self.fake_photo], axis=0)\n",
        "    self.logger.experiment.log({\"val/generated_monet\": [wandb.Image(m[i]) for i in range(m.shape[0])]}, sync_dist=True)\n",
        "    self.logger.experiment.log({\"val/generated_photo\": [wandb.Image(p[i]) for i in range(p.shape[0])]}, sync_dist=True)"
      ],
      "metadata": {
        "trusted": true,
        "execution": {
          "iopub.status.busy": "2025-06-26T05:11:26.524842Z",
          "iopub.execute_input": "2025-06-26T05:11:26.525534Z",
          "iopub.status.idle": "2025-06-26T05:11:26.530165Z",
          "shell.execute_reply.started": "2025-06-26T05:11:26.525509Z",
          "shell.execute_reply": "2025-06-26T05:11:26.529536Z"
        },
        "id": "9it5c29op7-G"
      },
      "outputs": [],
      "execution_count": null
    },
    {
      "cell_type": "code",
      "source": [
        "params = DefaultMunch.fromDict({\n",
        "    'image_size': img_width,\n",
        "    'run_name' : datetime.now().strftime(\"%Y%m%d-%H%M%S\"),\n",
        "    'lr': 2e-4,\n",
        "    'b1': 0.5,\n",
        "    'b2':0.996,\n",
        "    'lambda_photo': 10.0,\n",
        "    'lambda_monet' : 10.0,\n",
        "    'lambda_idt': 0.5,\n",
        "    'bs': BATCH_SIZE,\n",
        "    'max_epochs': MAX_EPOCHS,\n",
        "    'log_dir': '/content/',\n",
        "    'save_dir': '/content/',\n",
        "    'log_dir': '/content/'\n",
        "})"
      ],
      "metadata": {
        "trusted": true,
        "execution": {
          "iopub.status.busy": "2025-06-26T05:11:27.94677Z",
          "iopub.execute_input": "2025-06-26T05:11:27.947088Z",
          "iopub.status.idle": "2025-06-26T05:11:27.952968Z",
          "shell.execute_reply.started": "2025-06-26T05:11:27.947068Z",
          "shell.execute_reply": "2025-06-26T05:11:27.952241Z"
        },
        "id": "apKULBG8p7-G"
      },
      "outputs": [],
      "execution_count": null
    },
    {
      "cell_type": "code",
      "source": [
        "dm = GANDataModule( (MONET_FILENAMES, PHOTO_FILENAMES))\n",
        "model = GAN(**params)"
      ],
      "metadata": {
        "trusted": true,
        "execution": {
          "iopub.status.busy": "2025-06-26T05:11:30.442414Z",
          "iopub.execute_input": "2025-06-26T05:11:30.44311Z",
          "iopub.status.idle": "2025-06-26T05:11:30.549521Z",
          "shell.execute_reply.started": "2025-06-26T05:11:30.443085Z",
          "shell.execute_reply": "2025-06-26T05:11:30.548772Z"
        },
        "id": "u0o2DaYip7-M"
      },
      "outputs": [],
      "execution_count": null
    },
    {
      "cell_type": "code",
      "source": [
        "gc.collect()"
      ],
      "metadata": {
        "id": "VdQl2PsSuf6E"
      },
      "execution_count": null,
      "outputs": []
    },
    {
      "cell_type": "code",
      "source": [
        "from lightning.pytorch.callbacks.early_stopping import EarlyStopping\n",
        "\n",
        "trainer = pl.Trainer(\n",
        "    max_epochs=50,\n",
        "    accelerator=\"auto\",\n",
        "    devices=\"auto\",\n",
        "    strategy=\"auto\",\n",
        "    enable_progress_bar=True,\n",
        "    enable_model_summary=True,\n",
        "    log_every_n_steps=8,\n",
        "    # precision=\"bf16-true\",\n",
        "    logger=[logger],\n",
        "    fast_dev_run=True\n",
        ")\n",
        "\n",
        "trainer.fit(model, dm)"
      ],
      "metadata": {
        "trusted": true,
        "id": "Rs5oH0XSp7-M"
      },
      "outputs": [],
      "execution_count": null
    },
    {
      "cell_type": "markdown",
      "source": [
        "### Submission"
      ],
      "metadata": {
        "id": "2c_0iBdsp7-N"
      }
    },
    {
      "cell_type": "code",
      "source": [
        "model.photo_gen.eval()"
      ],
      "metadata": {
        "trusted": true,
        "execution": {
          "iopub.status.busy": "2025-06-26T04:32:59.217723Z",
          "iopub.status.idle": "2025-06-26T04:32:59.218Z",
          "shell.execute_reply.started": "2025-06-26T04:32:59.217846Z",
          "shell.execute_reply": "2025-06-26T04:32:59.217865Z"
        },
        "id": "ISTPsFeFp7-N"
      },
      "outputs": [],
      "execution_count": null
    },
    {
      "cell_type": "code",
      "source": [
        "import torchvision.io as io\n",
        "from torchvision.io import ImageReadMode\n",
        "\n",
        "_, ax = plt.subplots(5, 2, figsize=(12, 12))\n",
        "for i, img in enumerate(PHOTO_FILENAMES[:5]):\n",
        "    with torch.no_grad():\n",
        "        img = io.read_image(img, mode=ImageReadMode.RGB)\n",
        "        prediction = model.monet_gen(img.unsqueeze(0).float()).squeeze(0).numpy()\n",
        "        prediction = prediction.transpose(1,2,0)\n",
        "        prediction = (prediction * 127.5 + 127.5).astype(np.uint8)\n",
        "        img = (img.permute(1,2, 0)).numpy().astype(np.uint8)\n",
        "\n",
        "    ax[i, 0].imshow(img)\n",
        "    ax[i, 1].imshow(prediction)\n",
        "    ax[i, 0].set_title(\"Input Photo\")\n",
        "    ax[i, 1].set_title(\"Monet-esque\")\n",
        "    ax[i, 0].axis(\"off\")\n",
        "    ax[i, 1].axis(\"off\")\n",
        "plt.show()"
      ],
      "metadata": {
        "trusted": true,
        "execution": {
          "iopub.status.busy": "2025-06-26T04:33:01.352385Z",
          "iopub.execute_input": "2025-06-26T04:33:01.352908Z",
          "iopub.status.idle": "2025-06-26T04:33:02.329709Z",
          "shell.execute_reply.started": "2025-06-26T04:33:01.352858Z",
          "shell.execute_reply": "2025-06-26T04:33:02.328746Z"
        },
        "id": "zIJ98RYhp7-O"
      },
      "outputs": [],
      "execution_count": null
    },
    {
      "cell_type": "code",
      "source": [
        "import PIL\n",
        "! mkdir /content/images !ls $gan_getting_started_path/images"
      ],
      "metadata": {
        "trusted": true,
        "execution": {
          "iopub.status.busy": "2025-06-25T17:53:35.894598Z",
          "iopub.execute_input": "2025-06-25T17:53:35.894938Z",
          "iopub.status.idle": "2025-06-25T17:53:36.200818Z",
          "shell.execute_reply.started": "2025-06-25T17:53:35.89492Z",
          "shell.execute_reply": "2025-06-25T17:53:36.199984Z"
        },
        "id": "5HpW7_nSp7-P"
      },
      "outputs": [],
      "execution_count": 66
    },
    {
      "cell_type": "code",
      "source": [
        "i = 1\n",
        "for img in PHOTO_FILENAMES:\n",
        "    with torch.no_grad():\n",
        "        img = io.read_image(img, mode=ImageReadMode.RGB)\n",
        "        prediction = model.monet_gen(img)[0].numpy()\n",
        "        prediction = (prediction * 127.5 + 127.5).astype(np.uint8)\n",
        "    im = PIL.Image.fromarray(prediction)\n",
        "    im.save(\"../images/\" + str(i) + \".jpg\")\n",
        "    i += 1"
      ],
      "metadata": {
        "trusted": true,
        "id": "EhKkDkfrp7-P"
      },
      "outputs": [],
      "execution_count": 68
    },
    {
      "cell_type": "code",
      "source": [
        "import shutil\n",
        "shutil.make_archive(\"/content/images\", 'zip', \"/content/images/\")"
      ],
      "metadata": {
        "trusted": true,
        "colab": {
          "base_uri": "https://localhost:8080/",
          "height": 35
        },
        "id": "iJzJvLxxp7-P",
        "outputId": "dc5e877f-5d09-489f-dd16-f7acaf3775b0"
      },
      "outputs": [
        {
          "output_type": "execute_result",
          "data": {
            "text/plain": [
              "'/kaggle/working/images.zip'"
            ],
            "application/vnd.google.colaboratory.intrinsic+json": {
              "type": "string"
            }
          },
          "metadata": {},
          "execution_count": 69
        }
      ],
      "execution_count": 69
    },
    {
      "cell_type": "markdown",
      "source": [
        "## Discussion and Conclusion\n",
        "\n"
      ],
      "metadata": {
        "id": "TuMhZDBd-bRp"
      }
    },
    {
      "cell_type": "code",
      "source": [
        "https://lightning.ai/docs/pytorch/stable/notebooks/lightning_examples/basic-gan.html\n",
        "https://github.com/junyanz/pytorch-CycleGAN-and-pix2pix/tree/master"
      ],
      "metadata": {
        "id": "ucb9t2nu_Xz2",
        "trusted": true
      },
      "outputs": [],
      "execution_count": null
    }
  ]
}